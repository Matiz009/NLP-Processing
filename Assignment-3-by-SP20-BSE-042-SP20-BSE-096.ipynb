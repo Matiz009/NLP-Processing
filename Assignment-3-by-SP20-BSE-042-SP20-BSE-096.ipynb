{
 "cells": [
  {
   "cell_type": "code",
   "execution_count": 1,
   "id": "8d5f81f9",
   "metadata": {},
   "outputs": [
    {
     "name": "stdout",
     "output_type": "stream",
     "text": [
      "Requirement already satisfied: nltk in d:\\python\\lib\\site-packages (3.6.5)\n",
      "Requirement already satisfied: click in d:\\python\\lib\\site-packages (from nltk) (8.0.3)\n",
      "Requirement already satisfied: joblib in d:\\python\\lib\\site-packages (from nltk) (1.1.0)\n",
      "Requirement already satisfied: regex>=2021.8.3 in d:\\python\\lib\\site-packages (from nltk) (2021.8.3)\n",
      "Requirement already satisfied: tqdm in d:\\python\\lib\\site-packages (from nltk) (4.62.3)\n",
      "Requirement already satisfied: colorama in d:\\python\\lib\\site-packages (from click->nltk) (0.4.4)\n"
     ]
    }
   ],
   "source": [
    "! pip install nltk"
   ]
  },
  {
   "cell_type": "code",
   "execution_count": 2,
   "id": "4527ea00",
   "metadata": {},
   "outputs": [],
   "source": [
    "import nltk\n",
    "#importing library"
   ]
  },
  {
   "cell_type": "code",
   "execution_count": 15,
   "id": "a5a091b2",
   "metadata": {},
   "outputs": [
    {
     "name": "stdout",
     "output_type": "stream",
     "text": [
      " Cats and dogs are not allowed.\n",
      "Cats and dogs are antagonistic.\n",
      "It is raining cats and dogs\n",
      " I love the sound when it rains cats and dogs.\n"
     ]
    }
   ],
   "source": [
    "d1=\" Cats and dogs are not allowed.\"\n",
    "print(d1)\n",
    "d2=\"Cats and dogs are antagonistic.\"\n",
    "print(d2)\n",
    "d3=\"It is raining cats and dogs\"\n",
    "print(d3)\n",
    "d4=\" I love the sound when it rains cats and dogs.\"\n",
    "print(d4)"
   ]
  },
  {
   "cell_type": "code",
   "execution_count": 21,
   "id": "e2f5ed3f",
   "metadata": {},
   "outputs": [
    {
     "name": "stdout",
     "output_type": "stream",
     "text": [
      "['Cats', 'and', 'dogs', 'are', 'not', 'allowed', '.']\n"
     ]
    }
   ],
   "source": [
    "#tokenizing d1\n",
    "token1=nltk.word_tokenize(d1)\n",
    "print(token1)\n"
   ]
  },
  {
   "cell_type": "code",
   "execution_count": 22,
   "id": "5f5f5d3d",
   "metadata": {},
   "outputs": [
    {
     "name": "stdout",
     "output_type": "stream",
     "text": [
      "['Cats', 'and', 'dogs', 'are', 'antagonistic', '.']\n"
     ]
    }
   ],
   "source": [
    "#tokenizing d2\n",
    "token2=nltk.word_tokenize(d2)\n",
    "print(token2)"
   ]
  },
  {
   "cell_type": "code",
   "execution_count": 23,
   "id": "332c728c",
   "metadata": {},
   "outputs": [
    {
     "data": {
      "text/plain": [
       "[('Cats', 'NNS'),\n",
       " ('and', 'CC'),\n",
       " ('dogs', 'NNS'),\n",
       " ('are', 'VBP'),\n",
       " ('not', 'RB'),\n",
       " ('allowed', 'VBN'),\n",
       " ('.', '.')]"
      ]
     },
     "execution_count": 23,
     "metadata": {},
     "output_type": "execute_result"
    }
   ],
   "source": [
    "#assigning pos tags to d1\n",
    "nltk.pos_tag(token1)\n",
    "\n"
   ]
  },
  {
   "cell_type": "code",
   "execution_count": 24,
   "id": "9dfa3684",
   "metadata": {},
   "outputs": [
    {
     "data": {
      "text/plain": [
       "[('Cats', 'NNS'),\n",
       " ('and', 'CC'),\n",
       " ('dogs', 'NNS'),\n",
       " ('are', 'VBP'),\n",
       " ('antagonistic', 'JJ'),\n",
       " ('.', '.')]"
      ]
     },
     "execution_count": 24,
     "metadata": {},
     "output_type": "execute_result"
    }
   ],
   "source": [
    "#assigning pos tags to d2\n",
    "nltk.pos_tag(token2)"
   ]
  },
  {
   "cell_type": "code",
   "execution_count": 32,
   "id": "9b936fc6",
   "metadata": {},
   "outputs": [
    {
     "name": "stderr",
     "output_type": "stream",
     "text": [
      "[nltk_data] Downloading package stopwords to\n",
      "[nltk_data]     C:\\Users\\iamma\\AppData\\Roaming\\nltk_data...\n",
      "[nltk_data]   Package stopwords is already up-to-date!\n"
     ]
    },
    {
     "data": {
      "text/plain": [
       "True"
      ]
     },
     "execution_count": 32,
     "metadata": {},
     "output_type": "execute_result"
    }
   ],
   "source": [
    "nltk.download(\"stopwords\")"
   ]
  },
  {
   "cell_type": "code",
   "execution_count": 3,
   "id": "327f9658",
   "metadata": {},
   "outputs": [],
   "source": [
    "from nltk.corpus import stopwords\n",
    "from nltk.tokenize import word_tokenize\n",
    "d1=\" Cats and dogs are not allowed.\"\n",
    "words= word_tokenize(d1)\n",
    "stop_words= set(stopwords.words(\"english\"))\n",
    "stop_words_1= []\n",
    "for w in words:\n",
    "    if w in stop_words:\n",
    "        stop_words_1.append(w)"
   ]
  },
  {
   "cell_type": "code",
   "execution_count": 6,
   "id": "2d91a3a2",
   "metadata": {},
   "outputs": [
    {
     "name": "stdout",
     "output_type": "stream",
     "text": [
      "Stop words in d1 is :\n",
      "3\n"
     ]
    }
   ],
   "source": [
    "print(\"Stop words in d1 is  :\")\n",
    "print(len(stop_words_1))"
   ]
  },
  {
   "cell_type": "code",
   "execution_count": 7,
   "id": "8de93898",
   "metadata": {},
   "outputs": [],
   "source": [
    "from nltk.corpus import stopwords\n",
    "from nltk.tokenize import word_tokenize\n",
    "d2=\"Cats and dogs are antagonistic.\"\n",
    "words= word_tokenize(d2)\n",
    "stop_words= set(stopwords.words(\"english\"))\n",
    "stop_words_1= []\n",
    "for w in words:\n",
    "    if w in stop_words:\n",
    "        stop_words_1.append(w)"
   ]
  },
  {
   "cell_type": "code",
   "execution_count": 8,
   "id": "684a76c6",
   "metadata": {},
   "outputs": [
    {
     "name": "stdout",
     "output_type": "stream",
     "text": [
      "Stop words in d2 is  :\n",
      "2\n"
     ]
    }
   ],
   "source": [
    "print(\"Stop words in d2 is  :\")\n",
    "print(len(stop_words_1))"
   ]
  },
  {
   "cell_type": "code",
   "execution_count": 9,
   "id": "f66d2464",
   "metadata": {},
   "outputs": [],
   "source": [
    "from nltk.corpus import stopwords\n",
    "from nltk.tokenize import word_tokenize\n",
    "d1=\" Cats and dogs are not allowed.\"\n",
    "words= word_tokenize(d1)\n",
    "stop_words= set(stopwords.words(\"english\"))\n",
    "unique_words_1= []\n",
    "for w in words:\n",
    "    if w not in stop_words:\n",
    "        unique_words_1.append(w)"
   ]
  },
  {
   "cell_type": "code",
   "execution_count": 11,
   "id": "9bb6950c",
   "metadata": {},
   "outputs": [
    {
     "name": "stdout",
     "output_type": "stream",
     "text": [
      "Unique words in d1 is  :\n",
      "4\n"
     ]
    }
   ],
   "source": [
    "print(\"Unique words in d1 is  :\")\n",
    "print(len(unique_words_1))"
   ]
  },
  {
   "cell_type": "code",
   "execution_count": 13,
   "id": "215e6b00",
   "metadata": {},
   "outputs": [],
   "source": [
    "from nltk.corpus import stopwords\n",
    "from nltk.tokenize import word_tokenize\n",
    "d2=\"Cats and dogs are antagonistic.\"\n",
    "words= word_tokenize(d1)\n",
    "stop_words= set(stopwords.words(\"english\"))\n",
    "unique_words_2= []\n",
    "for w in words:\n",
    "    if w not in stop_words:\n",
    "        unique_words_2.append(w)"
   ]
  },
  {
   "cell_type": "code",
   "execution_count": 14,
   "id": "cab43076",
   "metadata": {},
   "outputs": [
    {
     "name": "stdout",
     "output_type": "stream",
     "text": [
      "Unique words in d2 is  :\n",
      "4\n"
     ]
    }
   ],
   "source": [
    "print(\"Unique words in d2 is  :\")\n",
    "print(len(unique_words_2))"
   ]
  },
  {
   "cell_type": "code",
   "execution_count": null,
   "id": "cfc178c6",
   "metadata": {},
   "outputs": [],
   "source": []
  }
 ],
 "metadata": {
  "kernelspec": {
   "display_name": "Python 3 (ipykernel)",
   "language": "python",
   "name": "python3"
  },
  "language_info": {
   "codemirror_mode": {
    "name": "ipython",
    "version": 3
   },
   "file_extension": ".py",
   "mimetype": "text/x-python",
   "name": "python",
   "nbconvert_exporter": "python",
   "pygments_lexer": "ipython3",
   "version": "3.9.7"
  }
 },
 "nbformat": 4,
 "nbformat_minor": 5
}
