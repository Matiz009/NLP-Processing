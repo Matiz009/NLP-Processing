{
 "cells": [
  {
   "cell_type": "code",
   "execution_count": 3,
   "id": "8d5f81f9",
   "metadata": {},
   "outputs": [
    {
     "name": "stdout",
     "output_type": "stream",
     "text": [
      "Requirement already satisfied: nltk in d:\\python\\lib\\site-packages (3.6.5)\n",
      "Requirement already satisfied: click in d:\\python\\lib\\site-packages (from nltk) (8.0.3)\n",
      "Requirement already satisfied: joblib in d:\\python\\lib\\site-packages (from nltk) (1.1.0)\n",
      "Requirement already satisfied: regex>=2021.8.3 in d:\\python\\lib\\site-packages (from nltk) (2021.8.3)\n",
      "Requirement already satisfied: tqdm in d:\\python\\lib\\site-packages (from nltk) (4.62.3)\n",
      "Requirement already satisfied: colorama in d:\\python\\lib\\site-packages (from click->nltk) (0.4.4)\n"
     ]
    }
   ],
   "source": [
    "! pip install nltk"
   ]
  },
  {
   "cell_type": "code",
   "execution_count": 4,
   "id": "4527ea00",
   "metadata": {},
   "outputs": [],
   "source": [
    "import nltk\n",
    "#importing library"
   ]
  },
  {
   "cell_type": "code",
   "execution_count": 5,
   "id": "a5a091b2",
   "metadata": {},
   "outputs": [
    {
     "name": "stdout",
     "output_type": "stream",
     "text": [
      " Cats and dogs are not allowed.\n",
      "Cats and dogs are antagonistic.\n",
      "It is raining cats and dogs\n",
      " I love the sound when it rains cats and dogs.\n"
     ]
    }
   ],
   "source": [
    "d1=\" Cats and dogs are not allowed.\"\n",
    "print(d1)\n",
    "d2=\"Cats and dogs are antagonistic.\"\n",
    "print(d2)\n",
    "d3=\"It is raining cats and dogs\"\n",
    "print(d3)\n",
    "d4=\" I love the sound when it rains cats and dogs.\"\n",
    "print(d4)"
   ]
  },
  {
   "cell_type": "code",
   "execution_count": 6,
   "id": "e2f5ed3f",
   "metadata": {},
   "outputs": [
    {
     "name": "stdout",
     "output_type": "stream",
     "text": [
      "['Cats', 'and', 'dogs', 'are', 'not', 'allowed', '.']\n"
     ]
    }
   ],
   "source": [
    "#tokenizing d1\n",
    "token1=nltk.word_tokenize(d1)\n",
    "print(token1)\n"
   ]
  },
  {
   "cell_type": "code",
   "execution_count": 7,
   "id": "5f5f5d3d",
   "metadata": {},
   "outputs": [
    {
     "name": "stdout",
     "output_type": "stream",
     "text": [
      "['Cats', 'and', 'dogs', 'are', 'antagonistic', '.']\n"
     ]
    }
   ],
   "source": [
    "#tokenizing d2\n",
    "token2=nltk.word_tokenize(d2)\n",
    "print(token2)"
   ]
  },
  {
   "cell_type": "code",
   "execution_count": 8,
   "id": "332c728c",
   "metadata": {},
   "outputs": [
    {
     "data": {
      "text/plain": [
       "[('Cats', 'NNS'),\n",
       " ('and', 'CC'),\n",
       " ('dogs', 'NNS'),\n",
       " ('are', 'VBP'),\n",
       " ('not', 'RB'),\n",
       " ('allowed', 'VBN'),\n",
       " ('.', '.')]"
      ]
     },
     "execution_count": 8,
     "metadata": {},
     "output_type": "execute_result"
    }
   ],
   "source": [
    "#assigning pos tags to d1\n",
    "nltk.pos_tag(token1)"
   ]
  },
  {
   "cell_type": "code",
   "execution_count": 9,
   "id": "9dfa3684",
   "metadata": {},
   "outputs": [
    {
     "data": {
      "text/plain": [
       "[('Cats', 'NNS'),\n",
       " ('and', 'CC'),\n",
       " ('dogs', 'NNS'),\n",
       " ('are', 'VBP'),\n",
       " ('antagonistic', 'JJ'),\n",
       " ('.', '.')]"
      ]
     },
     "execution_count": 9,
     "metadata": {},
     "output_type": "execute_result"
    }
   ],
   "source": [
    "#assigning pos tags to d2\n",
    "nltk.pos_tag(token2)"
   ]
  },
  {
   "cell_type": "code",
   "execution_count": 10,
   "id": "9b936fc6",
   "metadata": {},
   "outputs": [
    {
     "name": "stderr",
     "output_type": "stream",
     "text": [
      "[nltk_data] Downloading package stopwords to\n",
      "[nltk_data]     C:\\Users\\iamma\\AppData\\Roaming\\nltk_data...\n",
      "[nltk_data]   Package stopwords is already up-to-date!\n"
     ]
    },
    {
     "data": {
      "text/plain": [
       "True"
      ]
     },
     "execution_count": 10,
     "metadata": {},
     "output_type": "execute_result"
    }
   ],
   "source": [
    "nltk.download(\"stopwords\")"
   ]
  },
  {
   "cell_type": "code",
   "execution_count": 11,
   "id": "327f9658",
   "metadata": {},
   "outputs": [],
   "source": [
    "from nltk.corpus import stopwords\n",
    "from nltk.tokenize import word_tokenize\n",
    "d1=\" Cats and dogs are not allowed.\"\n",
    "words= word_tokenize(d1)\n",
    "stop_words= set(stopwords.words(\"english\"))\n",
    "stop_words_1= []\n",
    "for w in words:\n",
    "    if w in stop_words:\n",
    "        stop_words_1.append(w)"
   ]
  },
  {
   "cell_type": "code",
   "execution_count": 13,
   "id": "2d91a3a2",
   "metadata": {},
   "outputs": [
    {
     "name": "stdout",
     "output_type": "stream",
     "text": [
      "Stop words in d1 is  :\n",
      "3\n"
     ]
    }
   ],
   "source": [
    "print(\"Stop words in d1 is  :\")\n",
    "print(len(stop_words_1))"
   ]
  },
  {
   "cell_type": "code",
   "execution_count": 14,
   "id": "8de93898",
   "metadata": {},
   "outputs": [],
   "source": [
    "from nltk.corpus import stopwords\n",
    "from nltk.tokenize import word_tokenize\n",
    "d2=\"Cats and dogs are antagonistic.\"\n",
    "words= word_tokenize(d2)\n",
    "stop_words= set(stopwords.words(\"english\"))\n",
    "stop_words_1= []\n",
    "for w in words:\n",
    "    if w in stop_words:\n",
    "        stop_words_1.append(w)"
   ]
  },
  {
   "cell_type": "code",
   "execution_count": 8,
   "id": "684a76c6",
   "metadata": {},
   "outputs": [
    {
     "name": "stdout",
     "output_type": "stream",
     "text": [
      "Stop words in d2 is  :\n",
      "2\n"
     ]
    }
   ],
   "source": [
    "print(\"Stop words in d2 is  :\")\n",
    "print(len(stop_words_1))"
   ]
  },
  {
   "cell_type": "code",
   "execution_count": 17,
   "id": "f66d2464",
   "metadata": {},
   "outputs": [],
   "source": [
    "from nltk.corpus import stopwords\n",
    "from nltk.tokenize import word_tokenize\n",
    "c\n",
    "words= word_tokenize(d1)\n",
    "stop_words= set(stopwords.words(\"english\"))\n",
    "unique_words_1= []\n",
    "for w in words:\n",
    "    if w not in stop_words:\n",
    "        unique_words_1.append(w)"
   ]
  },
  {
   "cell_type": "code",
   "execution_count": 18,
   "id": "9bb6950c",
   "metadata": {},
   "outputs": [
    {
     "name": "stdout",
     "output_type": "stream",
     "text": [
      "Unique words in d1 is  :\n",
      "4\n"
     ]
    }
   ],
   "source": [
    "print(\"Unique words in d1 is  :\")\n",
    "print(len(unique_words_1))"
   ]
  },
  {
   "cell_type": "code",
   "execution_count": 21,
   "id": "215e6b00",
   "metadata": {},
   "outputs": [],
   "source": [
    "from nltk.corpus import stopwords\n",
    "from nltk.tokenize import word_tokenize\n",
    "d2=\"Cats and dogs are antagonistic.\"\n",
    "words= word_tokenize(d1)\n",
    "stop_words= set(stopwords.words(\"english\"))\n",
    "unique_words_2= []\n",
    "for w in words:\n",
    "    if w not in stop_words:\n",
    "        unique_words_2.append(w)"
   ]
  },
  {
   "cell_type": "code",
   "execution_count": 22,
   "id": "cab43076",
   "metadata": {},
   "outputs": [
    {
     "name": "stdout",
     "output_type": "stream",
     "text": [
      "Unique words in d2 is  :\n",
      "4\n"
     ]
    }
   ],
   "source": [
    "print(\"Unique words in d2 is  :\")\n",
    "print(len(unique_words_2))"
   ]
  },
  {
   "cell_type": "code",
   "execution_count": 23,
   "id": "cfc178c6",
   "metadata": {},
   "outputs": [],
   "source": [
    "%matplotlib inline\n",
    "import numpy as np\n",
    "import pandas as pd\n",
    "import sklearn\n"
   ]
  },
  {
   "cell_type": "code",
   "execution_count": 24,
   "id": "6ba35738",
   "metadata": {},
   "outputs": [],
   "source": [
    "from sklearn.feature_extraction.text import CountVectorizer\n",
    "phrases= [\"Cats and dogs are not allowed.\",\"Cats and dogs are antagonistic\"]"
   ]
  },
  {
   "cell_type": "code",
   "execution_count": 25,
   "id": "a2d61983",
   "metadata": {},
   "outputs": [
    {
     "data": {
      "text/plain": [
       "CountVectorizer()"
      ]
     },
     "execution_count": 25,
     "metadata": {},
     "output_type": "execute_result"
    }
   ],
   "source": [
    "vect = CountVectorizer()\n",
    "vect.fit(phrases)"
   ]
  },
  {
   "cell_type": "code",
   "execution_count": 26,
   "id": "86af310e",
   "metadata": {},
   "outputs": [
    {
     "name": "stdout",
     "output_type": "stream",
     "text": [
      "Vocabulary size :7\n",
      "Vocabulary Content :\n",
      "{'cats': 4, 'and': 1, 'dogs': 5, 'are': 3, 'not': 6, 'allowed': 0, 'antagonistic': 2}\n"
     ]
    }
   ],
   "source": [
    "print(\"Vocabulary size :{}\".format(len(vect.vocabulary_)))\n",
    "print(\"Vocabulary Content :\\n{}\".format(vect.vocabulary_))"
   ]
  },
  {
   "cell_type": "code",
   "execution_count": 27,
   "id": "21710729",
   "metadata": {},
   "outputs": [],
   "source": [
    "bag_of_words= vect.transform(phrases)"
   ]
  },
  {
   "cell_type": "code",
   "execution_count": 28,
   "id": "eae79593",
   "metadata": {},
   "outputs": [
    {
     "name": "stdout",
     "output_type": "stream",
     "text": [
      "Bag of words:\n",
      "[[1 1 0 1 1 1 1]\n",
      " [0 1 1 1 1 1 0]]\n"
     ]
    }
   ],
   "source": [
    "print(\"Bag of words:\\n{}\".format(bag_of_words.toarray()))"
   ]
  },
  {
   "cell_type": "code",
   "execution_count": 1,
   "id": "8c596dc5",
   "metadata": {},
   "outputs": [],
   "source": [
    "d1=\" Cats and dogs are not allowed.\"\n",
    "d2=\"Cats and dogs are antagonistic.\""
   ]
  },
  {
   "cell_type": "code",
   "execution_count": 3,
   "id": "62d4b102",
   "metadata": {},
   "outputs": [],
   "source": [
    "a=d1.split(' ')\n",
    "b=d2.split(' ')"
   ]
  },
  {
   "cell_type": "code",
   "execution_count": 4,
   "id": "d99f045d",
   "metadata": {},
   "outputs": [],
   "source": [
    "unique=set(a).union(set(b))"
   ]
  },
  {
   "cell_type": "code",
   "execution_count": 5,
   "id": "62373b26",
   "metadata": {},
   "outputs": [
    {
     "name": "stdout",
     "output_type": "stream",
     "text": [
      "{'', 'antagonistic.', 'Cats', 'not', 'and', 'allowed.', 'are', 'dogs'}\n"
     ]
    }
   ],
   "source": [
    "print(unique)"
   ]
  },
  {
   "cell_type": "code",
   "execution_count": 6,
   "id": "7861382b",
   "metadata": {},
   "outputs": [],
   "source": [
    "numA= dict.fromkeys(unique,0)\n",
    "for word in a:\n",
    "    numA[word] +=1\n",
    "numB= dict.fromkeys(unique,0)\n",
    "for word in b:\n",
    "    numB[word] +=1"
   ]
  },
  {
   "cell_type": "code",
   "execution_count": 7,
   "id": "6fcaf0dc",
   "metadata": {},
   "outputs": [
    {
     "name": "stdout",
     "output_type": "stream",
     "text": [
      "{'': 1, 'antagonistic.': 0, 'Cats': 1, 'not': 1, 'and': 1, 'allowed.': 1, 'are': 1, 'dogs': 1}\n",
      "{'': 0, 'antagonistic.': 1, 'Cats': 1, 'not': 0, 'and': 1, 'allowed.': 0, 'are': 1, 'dogs': 1}\n"
     ]
    }
   ],
   "source": [
    "print(numA)\n",
    "print(numB)"
   ]
  },
  {
   "cell_type": "code",
   "execution_count": 8,
   "id": "2bb15bb7",
   "metadata": {},
   "outputs": [
    {
     "data": {
      "text/plain": [
       "['i',\n",
       " 'me',\n",
       " 'my',\n",
       " 'myself',\n",
       " 'we',\n",
       " 'our',\n",
       " 'ours',\n",
       " 'ourselves',\n",
       " 'you',\n",
       " \"you're\",\n",
       " \"you've\",\n",
       " \"you'll\",\n",
       " \"you'd\",\n",
       " 'your',\n",
       " 'yours',\n",
       " 'yourself',\n",
       " 'yourselves',\n",
       " 'he',\n",
       " 'him',\n",
       " 'his',\n",
       " 'himself',\n",
       " 'she',\n",
       " \"she's\",\n",
       " 'her',\n",
       " 'hers',\n",
       " 'herself',\n",
       " 'it',\n",
       " \"it's\",\n",
       " 'its',\n",
       " 'itself',\n",
       " 'they',\n",
       " 'them',\n",
       " 'their',\n",
       " 'theirs',\n",
       " 'themselves',\n",
       " 'what',\n",
       " 'which',\n",
       " 'who',\n",
       " 'whom',\n",
       " 'this',\n",
       " 'that',\n",
       " \"that'll\",\n",
       " 'these',\n",
       " 'those',\n",
       " 'am',\n",
       " 'is',\n",
       " 'are',\n",
       " 'was',\n",
       " 'were',\n",
       " 'be',\n",
       " 'been',\n",
       " 'being',\n",
       " 'have',\n",
       " 'has',\n",
       " 'had',\n",
       " 'having',\n",
       " 'do',\n",
       " 'does',\n",
       " 'did',\n",
       " 'doing',\n",
       " 'a',\n",
       " 'an',\n",
       " 'the',\n",
       " 'and',\n",
       " 'but',\n",
       " 'if',\n",
       " 'or',\n",
       " 'because',\n",
       " 'as',\n",
       " 'until',\n",
       " 'while',\n",
       " 'of',\n",
       " 'at',\n",
       " 'by',\n",
       " 'for',\n",
       " 'with',\n",
       " 'about',\n",
       " 'against',\n",
       " 'between',\n",
       " 'into',\n",
       " 'through',\n",
       " 'during',\n",
       " 'before',\n",
       " 'after',\n",
       " 'above',\n",
       " 'below',\n",
       " 'to',\n",
       " 'from',\n",
       " 'up',\n",
       " 'down',\n",
       " 'in',\n",
       " 'out',\n",
       " 'on',\n",
       " 'off',\n",
       " 'over',\n",
       " 'under',\n",
       " 'again',\n",
       " 'further',\n",
       " 'then',\n",
       " 'once',\n",
       " 'here',\n",
       " 'there',\n",
       " 'when',\n",
       " 'where',\n",
       " 'why',\n",
       " 'how',\n",
       " 'all',\n",
       " 'any',\n",
       " 'both',\n",
       " 'each',\n",
       " 'few',\n",
       " 'more',\n",
       " 'most',\n",
       " 'other',\n",
       " 'some',\n",
       " 'such',\n",
       " 'no',\n",
       " 'nor',\n",
       " 'not',\n",
       " 'only',\n",
       " 'own',\n",
       " 'same',\n",
       " 'so',\n",
       " 'than',\n",
       " 'too',\n",
       " 'very',\n",
       " 's',\n",
       " 't',\n",
       " 'can',\n",
       " 'will',\n",
       " 'just',\n",
       " 'don',\n",
       " \"don't\",\n",
       " 'should',\n",
       " \"should've\",\n",
       " 'now',\n",
       " 'd',\n",
       " 'll',\n",
       " 'm',\n",
       " 'o',\n",
       " 're',\n",
       " 've',\n",
       " 'y',\n",
       " 'ain',\n",
       " 'aren',\n",
       " \"aren't\",\n",
       " 'couldn',\n",
       " \"couldn't\",\n",
       " 'didn',\n",
       " \"didn't\",\n",
       " 'doesn',\n",
       " \"doesn't\",\n",
       " 'hadn',\n",
       " \"hadn't\",\n",
       " 'hasn',\n",
       " \"hasn't\",\n",
       " 'haven',\n",
       " \"haven't\",\n",
       " 'isn',\n",
       " \"isn't\",\n",
       " 'ma',\n",
       " 'mightn',\n",
       " \"mightn't\",\n",
       " 'mustn',\n",
       " \"mustn't\",\n",
       " 'needn',\n",
       " \"needn't\",\n",
       " 'shan',\n",
       " \"shan't\",\n",
       " 'shouldn',\n",
       " \"shouldn't\",\n",
       " 'wasn',\n",
       " \"wasn't\",\n",
       " 'weren',\n",
       " \"weren't\",\n",
       " 'won',\n",
       " \"won't\",\n",
       " 'wouldn',\n",
       " \"wouldn't\"]"
      ]
     },
     "execution_count": 8,
     "metadata": {},
     "output_type": "execute_result"
    }
   ],
   "source": [
    "from nltk.corpus import stopwords\n",
    "stopwords.words(\"english\")"
   ]
  },
  {
   "cell_type": "code",
   "execution_count": 9,
   "id": "41843898",
   "metadata": {},
   "outputs": [],
   "source": [
    "#for term frequency\n",
    "def computeTF(wordDict, bagOfWords):\n",
    "    tfDict = {}\n",
    "    bagOfWordsCount = len(bagOfWords)\n",
    "    for word, count in wordDict.items():\n",
    "        tfDict[word] = count/float(bagOfWordsCount)\n",
    "        return tfDict"
   ]
  },
  {
   "cell_type": "code",
   "execution_count": 10,
   "id": "208d913c",
   "metadata": {},
   "outputs": [],
   "source": [
    "tfA = computeTF(numA, a)\n",
    "tfB = computeTF(numB, b)"
   ]
  },
  {
   "cell_type": "code",
   "execution_count": 12,
   "id": "716964aa",
   "metadata": {},
   "outputs": [
    {
     "name": "stdout",
     "output_type": "stream",
     "text": [
      "{'': 0.14285714285714285}\n",
      "{'': 0.0}\n"
     ]
    }
   ],
   "source": [
    "print(tfA)\n",
    "print(tfB)"
   ]
  },
  {
   "cell_type": "code",
   "execution_count": 13,
   "id": "049c9d1a",
   "metadata": {},
   "outputs": [],
   "source": [
    "#for idf\n",
    "def computeIDF(documents):\n",
    "    import math\n",
    "    N = len(documents)\n",
    "    idfDict= dict.fromkeys(documents[0].keys(),0)\n",
    "    for document in documents:\n",
    "        for word, val in document.items():\n",
    "            if val > 0:\n",
    "                idfDict[word]+=1\n",
    "                \n",
    "    for word, val in idfDict.items():\n",
    "        idfDict[word] = math.log(N/float(val))\n",
    "    return idfDict"
   ]
  },
  {
   "cell_type": "code",
   "execution_count": 17,
   "id": "a00a4880",
   "metadata": {},
   "outputs": [],
   "source": [
    "idfs= computeIDF([numA,numB])"
   ]
  },
  {
   "cell_type": "code",
   "execution_count": 18,
   "id": "71f0552d",
   "metadata": {},
   "outputs": [
    {
     "name": "stdout",
     "output_type": "stream",
     "text": [
      "{'': 0.6931471805599453, 'antagonistic.': 0.6931471805599453, 'Cats': 0.0, 'not': 0.6931471805599453, 'and': 0.0, 'allowed.': 0.6931471805599453, 'are': 0.0, 'dogs': 0.0}\n"
     ]
    }
   ],
   "source": [
    "print(idfs)"
   ]
  },
  {
   "cell_type": "code",
   "execution_count": 19,
   "id": "1b8dd6e8",
   "metadata": {},
   "outputs": [],
   "source": [
    "#now for tfidf\n",
    "def computeTFIDF(tfBagOfWords, idfs):\n",
    "    tfidf = {}\n",
    "    for word, val in tfBagOfWords.items():\n",
    "        tfidf[word] = val * idfs[word]\n",
    "    return tfidf"
   ]
  },
  {
   "cell_type": "code",
   "execution_count": 21,
   "id": "c921624a",
   "metadata": {},
   "outputs": [],
   "source": [
    "tfidfA= computeTFIDF(tfA, idfs)\n",
    "tfidfB= computeTFIDF(tfB, idfs)"
   ]
  },
  {
   "cell_type": "code",
   "execution_count": 27,
   "id": "22eaba84",
   "metadata": {},
   "outputs": [
    {
     "name": "stdout",
     "output_type": "stream",
     "text": [
      "{'': 0.09902102579427789}\n"
     ]
    }
   ],
   "source": [
    "print(tfidfA)"
   ]
  },
  {
   "cell_type": "code",
   "execution_count": 28,
   "id": "390ff8b8",
   "metadata": {},
   "outputs": [
    {
     "name": "stdout",
     "output_type": "stream",
     "text": [
      "{'': 0.0}\n"
     ]
    }
   ],
   "source": [
    "print(tfidfB)"
   ]
  },
  {
   "cell_type": "code",
   "execution_count": 30,
   "id": "77e0ae10",
   "metadata": {},
   "outputs": [],
   "source": [
    "#Now for N grams\n",
    "import re\n",
    "d1=\" Cats and dogs are not allowed.\"\n",
    "d2=\"Cats and dogs are antagonistic.\""
   ]
  },
  {
   "cell_type": "code",
   "execution_count": 44,
   "id": "160b1ad6",
   "metadata": {},
   "outputs": [],
   "source": [
    "def NGrams(text,n):\n",
    "    tokens= re.split(\"\\\\s+\",text)\n",
    "    ngrams=[]\n",
    "    \n",
    "    for i in range(len(tokens)-n+1):\n",
    "        temp=[tokens[j] for j in range(i,i+n)]\n",
    "        ngrams.append(\" \".join(temp))\n",
    "    return ngrams"
   ]
  },
  {
   "cell_type": "code",
   "execution_count": 45,
   "id": "97a5faef",
   "metadata": {},
   "outputs": [
    {
     "data": {
      "text/plain": [
       "['', 'Cats', 'and', 'dogs', 'are', 'not', 'allowed.']"
      ]
     },
     "execution_count": 45,
     "metadata": {},
     "output_type": "execute_result"
    }
   ],
   "source": [
    "#uni gram on d1 \n",
    "NGrams(d1,1)\n"
   ]
  },
  {
   "cell_type": "code",
   "execution_count": 46,
   "id": "7001ba4f",
   "metadata": {},
   "outputs": [
    {
     "data": {
      "text/plain": [
       "['Cats', 'and', 'dogs', 'are', 'antagonistic.']"
      ]
     },
     "execution_count": 46,
     "metadata": {},
     "output_type": "execute_result"
    }
   ],
   "source": [
    "#uni gram on d2\n",
    "NGrams(d2,1)\n"
   ]
  },
  {
   "cell_type": "code",
   "execution_count": 47,
   "id": "ba1b7bb9",
   "metadata": {},
   "outputs": [
    {
     "data": {
      "text/plain": [
       "[' Cats', 'Cats and', 'and dogs', 'dogs are', 'are not', 'not allowed.']"
      ]
     },
     "execution_count": 47,
     "metadata": {},
     "output_type": "execute_result"
    }
   ],
   "source": [
    "#Bi gram on d1 \n",
    "NGrams(d1,2)\n"
   ]
  },
  {
   "cell_type": "code",
   "execution_count": 48,
   "id": "bede02c1",
   "metadata": {},
   "outputs": [
    {
     "data": {
      "text/plain": [
       "['Cats and', 'and dogs', 'dogs are', 'are antagonistic.']"
      ]
     },
     "execution_count": 48,
     "metadata": {},
     "output_type": "execute_result"
    }
   ],
   "source": [
    "#Bi gram on d2 \n",
    "NGrams(d2,2)\n"
   ]
  },
  {
   "cell_type": "code",
   "execution_count": 49,
   "id": "cc6ed47b",
   "metadata": {},
   "outputs": [
    {
     "data": {
      "text/plain": [
       "[' Cats and',\n",
       " 'Cats and dogs',\n",
       " 'and dogs are',\n",
       " 'dogs are not',\n",
       " 'are not allowed.']"
      ]
     },
     "execution_count": 49,
     "metadata": {},
     "output_type": "execute_result"
    }
   ],
   "source": [
    "#Tri gram on d1 \n",
    "NGrams(d1,3)\n"
   ]
  },
  {
   "cell_type": "code",
   "execution_count": 50,
   "id": "345e37c8",
   "metadata": {},
   "outputs": [
    {
     "data": {
      "text/plain": [
       "['Cats and dogs', 'and dogs are', 'dogs are antagonistic.']"
      ]
     },
     "execution_count": 50,
     "metadata": {},
     "output_type": "execute_result"
    }
   ],
   "source": [
    "#Tri gram on d1 \n",
    "NGrams(d2,3)\n"
   ]
  },
  {
   "cell_type": "code",
   "execution_count": 65,
   "id": "148ac649",
   "metadata": {},
   "outputs": [
    {
     "data": {
      "text/plain": [
       "[' Cats and dogs',\n",
       " 'Cats and dogs are',\n",
       " 'and dogs are not',\n",
       " 'dogs are not allowed.']"
      ]
     },
     "execution_count": 65,
     "metadata": {},
     "output_type": "execute_result"
    }
   ],
   "source": [
    "#now for add 1 smoothing we will add 1 count in all the words count. For doing this we change previous method slightly\n",
    "NGrams(d1,4)\n"
   ]
  },
  {
   "cell_type": "code",
   "execution_count": 66,
   "id": "4d6c7bd4",
   "metadata": {},
   "outputs": [
    {
     "data": {
      "text/plain": [
       "['Cats and dogs are', 'and dogs are antagonistic.']"
      ]
     },
     "execution_count": 66,
     "metadata": {},
     "output_type": "execute_result"
    }
   ],
   "source": [
    "#now for add 1 smoothing we will add 1 count in all the words count. For doing this we change previous method slightly\n",
    "NGrams(d2,4)\n"
   ]
  },
  {
   "cell_type": "code",
   "execution_count": 81,
   "id": "98f4e8cb",
   "metadata": {},
   "outputs": [],
   "source": [
    "#for visualization we import seaborn library\n",
    "import seaborn as sns\n"
   ]
  },
  {
   "cell_type": "code",
   "execution_count": 76,
   "id": "6b19643f",
   "metadata": {},
   "outputs": [],
   "source": [
    "a=len(NGrams(d1,1))"
   ]
  },
  {
   "cell_type": "code",
   "execution_count": 77,
   "id": "84f84569",
   "metadata": {},
   "outputs": [],
   "source": [
    "b=len(NGrams(d2,1))"
   ]
  },
  {
   "cell_type": "code",
   "execution_count": 82,
   "id": "38201eb4",
   "metadata": {},
   "outputs": [],
   "source": [
    "import warnings\n",
    "warnings.simplefilter(action=\"ignore\", category=FutureWarning)"
   ]
  },
  {
   "cell_type": "code",
   "execution_count": 83,
   "id": "05ddad9f",
   "metadata": {},
   "outputs": [
    {
     "name": "stderr",
     "output_type": "stream",
     "text": [
      "D:\\python\\lib\\site-packages\\seaborn\\distributions.py:316: UserWarning: Dataset has 0 variance; skipping density estimate. Pass `warn_singular=False` to disable this warning.\n",
      "  warnings.warn(msg, UserWarning)\n"
     ]
    },
    {
     "data": {
      "text/plain": [
       "<AxesSubplot:ylabel='Density'>"
      ]
     },
     "execution_count": 83,
     "metadata": {},
     "output_type": "execute_result"
    },
    {
     "data": {
      "image/png": "[encoded data removed]",
      "text/plain": [
       "<Figure size 432x288 with 1 Axes>"
      ]
     },
     "metadata": {
      "needs_background": "light"
     },
     "output_type": "display_data"
    }
   ],
   "source": [
    "sns.distplot(a)"
   ]
  },
  {
   "cell_type": "code",
   "execution_count": 84,
   "id": "f759f9d5",
   "metadata": {},
   "outputs": [
    {
     "name": "stderr",
     "output_type": "stream",
     "text": [
      "D:\\python\\lib\\site-packages\\seaborn\\distributions.py:316: UserWarning: Dataset has 0 variance; skipping density estimate. Pass `warn_singular=False` to disable this warning.\n",
      "  warnings.warn(msg, UserWarning)\n"
     ]
    },
    {
     "data": {
      "text/plain": [
       "<AxesSubplot:ylabel='Density'>"
      ]
     },
     "execution_count": 84,
     "metadata": {},
     "output_type": "execute_result"
    },
    {
     "data": {
      "image/png": "[encoded data removed]",
      "text/plain": [
       "<Figure size 432x288 with 1 Axes>"
      ]
     },
     "metadata": {
      "needs_background": "light"
     },
     "output_type": "display_data"
    }
   ],
   "source": [
    "sns.distplot(b)"
   ]
  },
  {
   "cell_type": "code",
   "execution_count": null,
   "id": "4ed93c87",
   "metadata": {},
   "outputs": [],
   "source": []
  },
  {
   "cell_type": "code",
   "execution_count": null,
   "id": "32b85da7",
   "metadata": {},
   "outputs": [],
   "source": []
  }
 ],
 "metadata": {
  "kernelspec": {
   "display_name": "Python 3 (ipykernel)",
   "language": "python",
   "name": "python3"
  },
  "language_info": {
   "codemirror_mode": {
    "name": "ipython",
    "version": 3
   },
   "file_extension": ".py",
   "mimetype": "text/x-python",
   "name": "python",
   "nbconvert_exporter": "python",
   "pygments_lexer": "ipython3",
   "version": "3.9.7"
  }
 },
 "nbformat": 4,
 "nbformat_minor": 5
}
